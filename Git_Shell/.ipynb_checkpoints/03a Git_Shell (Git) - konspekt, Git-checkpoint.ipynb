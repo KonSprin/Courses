{
 "cells": [
  {
   "cell_type": "markdown",
   "metadata": {},
   "source": [
    "![](https://media-exp1.licdn.com/dms/image/C4D0BAQHUQWhqV2rl1g/company-logo_200_200/0/1550502396615?e=2159024400&v=beta&t=_mM0D3cbDu8DL3MUvcb75g65zJ-c4Wd0nrguJGoW_gE)"
   ]
  },
  {
   "cell_type": "markdown",
   "metadata": {},
   "source": [
    "# Git\n",
    "\n",
    "_Mikołaj Leszczuk_\n",
    "\n",
    "## Konspekt\n",
    "\n",
    "W tym module nauczymy się podstaw obsługi gita z poziomu terminala.\n",
    "\n",
    "Dowiemy się jak skonfigurować gita oraz GitHuba, żeby nam poprawnie działały. Poznamy podstawowe słownictwo i komendy:\n",
    "\n",
    "* tworzenia pustego repozytorium,\n",
    "* ściągania istniejącego repozytorium,\n",
    "* sprawdzania stanu repozytorium,\n",
    "* zapisywania zmian,\n",
    "* przeglądania historii, przywracanie wersji historycznych.\n",
    "\n",
    "Ponadto poznamy sposoby na pracę zespołową, gałęzie i metody rozwiązywania konfliktów\n",
    "\n",
    "## Git\n",
    "\n",
    "### Wstęp\n",
    "\n",
    "Oprogramowanie do kontroli wersji pomaga kontrolować co i kiedy zrobiliśmy z danym programem lub zestawem programów. Może służyć też do zapisywania kolejnych wersji naszych plików. To zwykle jest o wiele lepsze od sytuacji z poniższego obrazka:\n",
    "\n",
    "![](https://pbs.twimg.com/media/ELV8JYDWoAIzvo8.jpg)\n",
    "\n",
    "### Kontrola wersji\n",
    "\n",
    "Kontrola wersji może służyć zapisowi kolejnych wersji dokumentów.\n",
    "\n",
    "![](https://ucsbcarpentry.github.io/2019-10-24-gitbash/fig/play-changes.svg)\n",
    "\n",
    "W ten sposób w każdej chwili możemy powrócić do poprzednich wersji naszej pracy i coś odzyskać lub poprawić.\n",
    "\n",
    "Nad danym dokumentem może pracować kilka osób i wtedy zwykle prowadzi to do kilku wersji tekstów\n",
    "\n",
    "![](https://bham-carpentries.github.io/2019-02-22-bham_git-novice/fig/versions.svg)\n",
    "\n",
    "Jeżeli zmiany zostaną dokonane w tej samej części dokumentu rodzi się konflikt, którą wersję wybrać:\n",
    "\n",
    "![](https://reproducible-analysis-workshop.readthedocs.io/en/latest/_images/merge.svg)\n",
    "\n",
    "Systemy kontroli umożliwiają łatwe zarządzanie nie tylko zmianami w projekcie, ale również pozwalają zmniejszać liczbę powstających konfliktów między wersjami oraz ułatwiają rozwiązanie tych, które powstały. Są one stworzone po to by śledzić zmiany w dokumentach, decydować którą wersję w czasie konfliktu zachować tworząc nową wersję dokumentów oraz trzymają pełną historię zmian. Kompletna historia wszystkich zmian w pikach oraz wszystkich wersji plików tworzy **repozytorium**."
   ]
  },
  {
   "cell_type": "code",
   "execution_count": null,
   "metadata": {
    "scrolled": false
   },
   "outputs": [],
   "source": []
  }
 ],
 "metadata": {
  "kernelspec": {
   "display_name": "Bash",
   "language": "bash",
   "name": "bash"
  },
  "language_info": {
   "codemirror_mode": "shell",
   "file_extension": ".sh",
   "mimetype": "text/x-sh",
   "name": "bash"
  }
 },
 "nbformat": 4,
 "nbformat_minor": 4
}
